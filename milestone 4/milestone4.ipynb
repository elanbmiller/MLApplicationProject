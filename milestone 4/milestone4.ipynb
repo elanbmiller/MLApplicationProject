{
 "cells": [
  {
   "cell_type": "code",
   "execution_count": 41,
   "metadata": {},
   "outputs": [],
   "source": [
    "import pandas as pd\n",
    "import numpy as np\n",
    "from sklearn.model_selection import cross_val_score\n",
    "from sklearn import linear_model\n",
    "from sklearn.model_selection import cross_val_predict\n",
    "from sklearn.metrics import accuracy_score\n",
    "\n",
    "from sklearn.gaussian_process import GaussianProcessClassifier\n",
    "from sklearn.gaussian_process.kernels import RBF, Matern\n",
    "\n",
    "from sklearn.cross_validation import train_test_split\n",
    "from sklearn.decomposition import PCA\n",
    "from sklearn.preprocessing import StandardScaler\n",
    "from sklearn.linear_model import RidgeClassifier\n",
    "from sklearn import datasets\n",
    "\n",
    "from sklearn.model_selection import StratifiedKFold\n",
    "from sklearn.utils import shuffle"
   ]
  },
  {
   "cell_type": "markdown",
   "metadata": {},
   "source": [
    "# Let's compare our models thus far"
   ]
  },
  {
   "cell_type": "markdown",
   "metadata": {},
   "source": [
    "###### First set up all the data"
   ]
  },
  {
   "cell_type": "code",
   "execution_count": 20,
   "metadata": {},
   "outputs": [],
   "source": [
    "data_folder = \"../Data\"\n",
    "train_file = \"/adult.data.txt\"\n",
    "test_file = \"/adult.test.txt\"\n",
    "cols = [\"age\", \"workclass\", \"fnlwgt\", \"education\", \"education-num\", \"marital-status\", \"occupation\", \"relationship\",\n",
    "        \"race\", \"sex\", \"capital-gain\", \"capital-loss\", \"hours-per-week\", \"native-country\", \"class\"]\n",
    "\n",
    "train_df = pd.read_csv(data_folder + train_file, names=cols, header=None)\n",
    "test_df  = pd.read_csv(data_folder + test_file, names=cols, skiprows=1)"
   ]
  },
  {
   "cell_type": "code",
   "execution_count": 21,
   "metadata": {},
   "outputs": [],
   "source": [
    "\n",
    "# One Hot Encoding\n",
    "categorical_cols = [\"workclass\", \"education\", \"marital-status\", \"occupation\", \"relationship\", \"race\", \"sex\", \"native-country\"]\n",
    "train_df = pd.get_dummies(train_df, columns=categorical_cols)\n",
    "test_df = pd.get_dummies(test_df, columns=categorical_cols)"
   ]
  },
  {
   "cell_type": "code",
   "execution_count": 22,
   "metadata": {},
   "outputs": [],
   "source": [
    "\n",
    "# convert class to 0 or 1\n",
    "train_df[\"class\"] = train_df[\"class\"].astype('category')\n",
    "train_df[\"class\"] = train_df[\"class\"].cat.codes\n",
    "test_df[\"class\"]  = test_df[\"class\"].astype('category')\n",
    "test_df[\"class\"]  = test_df[\"class\"].cat.codes"
   ]
  },
  {
   "cell_type": "code",
   "execution_count": 38,
   "metadata": {},
   "outputs": [],
   "source": [
    "X_train = train_df.drop(\"class\", axis=1).as_matrix()\n",
    "y_train = train_df[\"class\"].as_matrix()\n",
    "X_test = test_df.drop(\"class\", axis=1).as_matrix()\n",
    "y_test = test_df[\"class\"].as_matrix()"
   ]
  },
  {
   "cell_type": "code",
   "execution_count": 24,
   "metadata": {},
   "outputs": [
    {
     "data": {
      "text/plain": [
       "array([0.83236107, 0.83937346, 0.84490172, 0.82985258, 0.84336609,\n",
       "       0.83753071, 0.83753071, 0.84213759, 0.84121622, 0.84398034])"
      ]
     },
     "execution_count": 24,
     "metadata": {},
     "output_type": "execute_result"
    }
   ],
   "source": [
    "clf = linear_model.RidgeClassifier()\n",
    "n_folds = 10\n",
    "scores = cross_val_score(clf, X_train, y_train, cv=n_folds)\n",
    "scores"
   ]
  },
  {
   "cell_type": "markdown",
   "metadata": {},
   "source": [
    "## Here's the logistic regression average accuracy for 10 times 10 fold cross validation"
   ]
  },
  {
   "cell_type": "code",
   "execution_count": 46,
   "metadata": {},
   "outputs": [
    {
     "name": "stdout",
     "output_type": "stream",
     "text": [
      "0.8395381823613324\n"
     ]
    }
   ],
   "source": [
    "res = 0.0\n",
    "for i in range(10):\n",
    "    X, y = shuffle(X_train, y_train, random_state=i)\n",
    "    res += cross_val_score(clf, X, y, cv=n_folds).mean()\n",
    "print(res/10.0)"
   ]
  },
  {
   "cell_type": "markdown",
   "metadata": {},
   "source": [
    "## Here's the Gaussian Process average accuracy for 10 times 10 fold cross validation\n",
    "### Using 100 random samples for training"
   ]
  },
  {
   "cell_type": "code",
   "execution_count": 52,
   "metadata": {},
   "outputs": [],
   "source": [
    "combineX_trainY_train = np.column_stack([X_train, y_train])\n",
    "totalSamples = len(combineX_trainY_train)\n",
    "subsetSize = 1000\n",
    "subset = combineX_trainY_train[np.random.choice(combineX_trainY_train.shape[0], subsetSize, replace=False), :]"
   ]
  },
  {
   "cell_type": "markdown",
   "metadata": {},
   "source": [
    "### And a test subset of 1000 samples"
   ]
  },
  {
   "cell_type": "code",
   "execution_count": 53,
   "metadata": {},
   "outputs": [],
   "source": [
    "combineX_testY_test = np.column_stack([X_test, y_test])\n",
    "totalSamples_test = len(combineX_testY_test)\n",
    "subsetSize_test = 1000\n",
    "subset_test = combineX_testY_test[np.random.choice(combineX_testY_test.shape[0], subsetSize_test, replace=False), :]"
   ]
  },
  {
   "cell_type": "code",
   "execution_count": 58,
   "metadata": {},
   "outputs": [
    {
     "name": "stdout",
     "output_type": "stream",
     "text": [
      "0.7383874287428742\n"
     ]
    }
   ],
   "source": [
    "y_train_subset = subset[:,-1]\n",
    "X_train_subset = np.delete(subset, -1, axis = 1)\n",
    "\n",
    "y_test_subset = subset_test[:,-1]\n",
    "X_test_subset = np.delete(subset_test, -1, axis = 1)\n",
    "\n",
    "GP_RBF = GaussianProcessClassifier(kernel = 1.0 * RBF(length_scale=1.0))\n",
    "GP_Matern = GaussianProcessClassifier(kernel = Matern(length_scale=2, nu=3/2))\n",
    "\n",
    "resRBF = 0.0\n",
    "for i in range(10):\n",
    "    X, y = shuffle(X_train_subset, y_train_subset, random_state=i)\n",
    "    resRBF += cross_val_score(GP_RBF, X, y, cv=n_folds).mean()\n",
    "print(resRBF/10.0)"
   ]
  },
  {
   "cell_type": "code",
   "execution_count": null,
   "metadata": {},
   "outputs": [],
   "source": [
    "resMatern = 0.0\n",
    "for i in range(10):\n",
    "    X, y = shuffle(X_train_subset, y_train_subset, random_state=i)\n",
    "    resMatern += cross_val_score(GP_Matern, X, y, cv=n_folds).mean()\n",
    "print(resMatern/10.0)"
   ]
  },
  {
   "cell_type": "markdown",
   "metadata": {},
   "source": [
    "## We can't use PCA on the adult data set because it has categorical features as discussed in milestone 3. Therefore, let's again test it with 10 times 10-fold cross validation on the Iris data set and see how it performs"
   ]
  },
  {
   "cell_type": "code",
   "execution_count": 71,
   "metadata": {},
   "outputs": [
    {
     "name": "stdout",
     "output_type": "stream",
     "text": [
      "0.8006666666666666\n"
     ]
    }
   ],
   "source": [
    "RANDOM_STATE = 49\n",
    "\n",
    "iris = datasets.load_iris()\n",
    "X = iris.data\n",
    "y = iris.target\n",
    "\n",
    "\n",
    "clf_pca = RidgeClassifier()\n",
    "\n",
    "# perform PCA with 2 principal components (there are 4 features)\n",
    "pca = PCA(n_components=2)\n",
    "pca.fit(X)\n",
    "\n",
    "X_std = pca.transform(X)\n",
    "\n",
    "#X_std_train, X_std_test, y_std_train, y_std_test = train_test_split(X_std, y, random_state=RANDOM_STATE)\n",
    "\n",
    "# Here's the 10 times 10-fold c.v score with PCA\n",
    "\n",
    "pcaAcc = 0.0\n",
    "for i in range(10):\n",
    "   X_shuffle, y_shuffle = shuffle(X_std, y, random_state=i)\n",
    "   pcaAcc += cross_val_score(clf_pca, X_shuffle, y_shuffle, cv=n_folds).mean()\n",
    "print(pcaAcc/10.0)"
   ]
  },
  {
   "cell_type": "markdown",
   "metadata": {},
   "source": [
    "# Here's the 10 times 10-fold c.v score without PCA"
   ]
  },
  {
   "cell_type": "code",
   "execution_count": 74,
   "metadata": {},
   "outputs": [
    {
     "name": "stdout",
     "output_type": "stream",
     "text": [
      "0.8346666666666666\n"
     ]
    }
   ],
   "source": [
    "X = iris.data\n",
    "acc = 0.0\n",
    "for i in range(10):\n",
    "   X_shuffle, y_shuffle = shuffle(X, y, random_state=i)\n",
    "   acc += cross_val_score(clf_pca, X_shuffle, y_shuffle, cv=n_folds).mean()\n",
    "print(acc/10.0)\n"
   ]
  },
  {
   "cell_type": "code",
   "execution_count": null,
   "metadata": {},
   "outputs": [],
   "source": []
  }
 ],
 "metadata": {
  "kernelspec": {
   "display_name": "Python 2",
   "language": "python",
   "name": "python2"
  },
  "language_info": {
   "codemirror_mode": {
    "name": "ipython",
    "version": 2
   },
   "file_extension": ".py",
   "mimetype": "text/x-python",
   "name": "python",
   "nbconvert_exporter": "python",
   "pygments_lexer": "ipython2",
   "version": "2.7.14"
  }
 },
 "nbformat": 4,
 "nbformat_minor": 2
}
